{
  "nbformat": 4,
  "nbformat_minor": 0,
  "metadata": {
    "colab": {
      "provenance": [],
      "authorship_tag": "ABX9TyMkOHyj5EGJyvfkIIuDCt9J",
      "include_colab_link": true
    },
    "kernelspec": {
      "name": "python3",
      "display_name": "Python 3"
    },
    "language_info": {
      "name": "python"
    }
  },
  "cells": [
    {
      "cell_type": "markdown",
      "metadata": {
        "id": "view-in-github",
        "colab_type": "text"
      },
      "source": [
        "<a href=\"https://colab.research.google.com/github/KesteHarshada87/MachineLearning/blob/main/PreprocessingTechnique.ipynb\" target=\"_parent\"><img src=\"https://colab.research.google.com/assets/colab-badge.svg\" alt=\"Open In Colab\"/></a>"
      ]
    },
    {
      "cell_type": "code",
      "execution_count": 2,
      "metadata": {
        "id": "OiZLfk2p4tQm"
      },
      "outputs": [],
      "source": [
        "import pandas as pd\n",
        "from sklearn.model_selection import train_test_split\n",
        "from sklearn.preprocessing import StandardScaler,LabelEncoder\n",
        "from sklearn.impute import SimpleImputer"
      ]
    },
    {
      "cell_type": "code",
      "source": [
        "data={\n",
        "    'Age':[25,10,45,None,23],\n",
        "    'Salary':[30000,56000,None,45000,78000],\n",
        "    'Department':['HR','IT','IT','HR','HR'],\n",
        "    'Purchased':['No','Yes','No','Yes','Yes'],\n",
        "    'Gender':['Male','Female','Male','Female','Male']\n",
        "}\n",
        "\n",
        "df=pd.DataFrame(data)\n",
        "print(\"Before preprocessing dataset:\\n\",df)"
      ],
      "metadata": {
        "colab": {
          "base_uri": "https://localhost:8080/"
        },
        "id": "8aeFApgG5prP",
        "outputId": "2a013565-54db-415a-c1e6-72fc9eb0b8e1"
      },
      "execution_count": 6,
      "outputs": [
        {
          "output_type": "stream",
          "name": "stdout",
          "text": [
            "Before preprocessing dataset:\n",
            "     Age   Salary Department Purchased  Gender\n",
            "0  25.0  30000.0         HR        No    Male\n",
            "1  10.0  56000.0         IT       Yes  Female\n",
            "2  45.0      NaN         IT        No    Male\n",
            "3   NaN  45000.0         HR       Yes  Female\n",
            "4  23.0  78000.0         HR       Yes    Male\n"
          ]
        }
      ]
    },
    {
      "cell_type": "code",
      "source": [
        "imputer=SimpleImputer(strategy='mean')\n",
        "df[['Age','Salary']]=imputer.fit_transform(df[['Age','Salary']])\n",
        "print(\"After handling missing values:\\n\",df)"
      ],
      "metadata": {
        "colab": {
          "base_uri": "https://localhost:8080/"
        },
        "id": "xhY_e3RE6dcu",
        "outputId": "5758b081-d8f9-4949-ed99-aa690e63b496"
      },
      "execution_count": 8,
      "outputs": [
        {
          "output_type": "stream",
          "name": "stdout",
          "text": [
            "After handling missing values:\n",
            "      Age   Salary Department Purchased  Gender\n",
            "0  25.00  30000.0         HR        No    Male\n",
            "1  10.00  56000.0         IT       Yes  Female\n",
            "2  45.00  52250.0         IT        No    Male\n",
            "3  25.75  45000.0         HR       Yes  Female\n",
            "4  23.00  78000.0         HR       Yes    Male\n"
          ]
        }
      ]
    },
    {
      "cell_type": "code",
      "source": [
        "label_encoder=LabelEncoder()\n",
        "df['Department']=label_encoder.fit_transform(df['Department'])\n",
        "df['Purchased']=label_encoder.fit_transform(df['Purchased'])\n",
        "df['Gender']=label_encoder.fit_transform(df['Gender'])"
      ],
      "metadata": {
        "id": "Ra0qQeYk7DVN"
      },
      "execution_count": 18,
      "outputs": []
    },
    {
      "cell_type": "code",
      "source": [
        "scaler=StandardScaler()\n",
        "df[['Age','Salary']]=scaler.fit_transform(df[['Age','Salary']])"
      ],
      "metadata": {
        "id": "sq4cE2mN8dV2"
      },
      "execution_count": 12,
      "outputs": []
    },
    {
      "cell_type": "code",
      "source": [
        "x=df.drop('Purchased',axis=1)\n",
        "y=df['Purchased']"
      ],
      "metadata": {
        "id": "WkNmPuR780qp"
      },
      "execution_count": 13,
      "outputs": []
    },
    {
      "cell_type": "code",
      "source": [
        "X_train, X_test, y_train, y_test = train_test_split(x, y, test_size=0.2, random_state=42)\n"
      ],
      "metadata": {
        "id": "6hR3tpUW87SL"
      },
      "execution_count": 15,
      "outputs": []
    },
    {
      "cell_type": "code",
      "source": [
        "print(\"\\nPreprocessed Features (X_train):\\n\", X_train)\n",
        "print(\"\\nTarget (y_train):\\n\", y_train)\n"
      ],
      "metadata": {
        "colab": {
          "base_uri": "https://localhost:8080/"
        },
        "id": "FL1vICQ09CLB",
        "outputId": "9d1656b8-d7a3-4bad-c0bf-5ec4b0819a95"
      },
      "execution_count": 16,
      "outputs": [
        {
          "output_type": "stream",
          "name": "stdout",
          "text": [
            "\n",
            "Preprocessed Features (X_train):\n",
            "         Age    Salary  Department  Gender\n",
            "4 -0.245624  1.645275           0       1\n",
            "2  1.719367  0.000000           1       1\n",
            "0 -0.066988 -1.421645           0       1\n",
            "3  0.000000 -0.463233           0       0\n",
            "\n",
            "Target (y_train):\n",
            " 4    1\n",
            "2    0\n",
            "0    0\n",
            "3    1\n",
            "Name: Purchased, dtype: int64\n"
          ]
        }
      ]
    }
  ]
}